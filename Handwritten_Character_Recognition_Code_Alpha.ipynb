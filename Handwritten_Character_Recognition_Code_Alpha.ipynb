{
  "nbformat": 4,
  "nbformat_minor": 0,
  "metadata": {
    "colab": {
      "provenance": []
    },
    "kernelspec": {
      "name": "python3",
      "display_name": "Python 3"
    },
    "language_info": {
      "name": "python"
    }
  },
  "cells": [
    {
      "cell_type": "markdown",
      "source": [
        "# **Handwritten Character Recognition_Code_Alpha**"
      ],
      "metadata": {
        "id": "IvQYr4vzalVu"
      }
    },
    {
      "cell_type": "markdown",
      "source": [
        "### **Load and Preprocess MNIST CSV Data**"
      ],
      "metadata": {
        "id": "M5Y7rbxmaK5G"
      }
    },
    {
      "cell_type": "code",
      "execution_count": null,
      "metadata": {
        "id": "SNgHqjBuXhHb"
      },
      "outputs": [],
      "source": [
        "import pandas as pd\n",
        "import numpy as np\n",
        "from tensorflow.keras.utils import to_categorical\n",
        "from sklearn.model_selection import train_test_split\n",
        "\n",
        "import tensorflow as tf\n",
        "from tensorflow.keras.models import Sequential\n",
        "from tensorflow.keras.layers import Conv2D, MaxPooling2D, Flatten, Dense"
      ]
    },
    {
      "cell_type": "markdown",
      "source": [
        "**Load the data**"
      ],
      "metadata": {
        "id": "dL0CRZFeYsIg"
      }
    },
    {
      "cell_type": "code",
      "source": [
        "train_data = pd.read_csv('/content/sample_data/mnist_train_small.csv')\n",
        "test_data = pd.read_csv('/content/sample_data/mnist_test.csv')"
      ],
      "metadata": {
        "id": "8oqde3-xZIMn"
      },
      "execution_count": null,
      "outputs": []
    },
    {
      "cell_type": "markdown",
      "source": [
        "**Separate features and labels**"
      ],
      "metadata": {
        "id": "Qw78jo8PYtnz"
      }
    },
    {
      "cell_type": "code",
      "source": [
        "X_train = train_data.iloc[:, 1:].values\n",
        "y_train = train_data.iloc[:, 0].values\n"
      ],
      "metadata": {
        "id": "zFaGLX9oZIwh"
      },
      "execution_count": null,
      "outputs": []
    },
    {
      "cell_type": "markdown",
      "source": [
        "**Normalize the pixel values to be between 0 and 1**"
      ],
      "metadata": {
        "id": "gdFibXL5Y4mx"
      }
    },
    {
      "cell_type": "code",
      "source": [
        "X_test = test_data.iloc[:, 1:].values\n",
        "y_test = test_data.iloc[:, 0].values"
      ],
      "metadata": {
        "id": "IdDbyCHaZJQq"
      },
      "execution_count": null,
      "outputs": []
    },
    {
      "cell_type": "markdown",
      "source": [
        "**Reshape the data to fit the model (28x28 images with 1 color channel)**"
      ],
      "metadata": {
        "id": "YobJ--A6Y-Lr"
      }
    },
    {
      "cell_type": "code",
      "source": [
        "X_train = X_train / 255.0\n",
        "X_test = X_test / 255.0"
      ],
      "metadata": {
        "id": "FEHjXOgkZJxP"
      },
      "execution_count": null,
      "outputs": []
    },
    {
      "cell_type": "markdown",
      "source": [
        "**Convert labels to one-hot encoding**"
      ],
      "metadata": {
        "id": "HGQsT71TZAxO"
      }
    },
    {
      "cell_type": "code",
      "source": [
        "X_train = X_train.reshape(-1, 28, 28, 1)\n",
        "X_test = X_test.reshape(-1, 28, 28, 1)"
      ],
      "metadata": {
        "id": "R39oVnd2ZKVQ"
      },
      "execution_count": null,
      "outputs": []
    },
    {
      "cell_type": "markdown",
      "source": [
        "**Split train data into train and validation sets**"
      ],
      "metadata": {
        "id": "phF9AWElZDZN"
      }
    },
    {
      "cell_type": "code",
      "source": [
        "y_train = to_categorical(y_train, 10)\n",
        "y_test = to_categorical(y_test, 10)\n",
        "\n",
        "X_train, X_val, y_train, y_val = train_test_split(X_train, y_train, test_size=0.2, random_state=42)\n"
      ],
      "metadata": {
        "id": "zlizswW7ZK4K"
      },
      "execution_count": null,
      "outputs": []
    },
    {
      "cell_type": "markdown",
      "source": [
        "### **Build and Train the CNN Model**"
      ],
      "metadata": {
        "id": "lws7rS0LaSHZ"
      }
    },
    {
      "cell_type": "markdown",
      "source": [
        "**Build the CNN model**"
      ],
      "metadata": {
        "id": "4hJyybWsZm4w"
      }
    },
    {
      "cell_type": "code",
      "source": [
        "model = Sequential()\n",
        "model.add(Conv2D(32, kernel_size=(3, 3), activation='relu', input_shape=(28, 28, 1)))\n",
        "model.add(MaxPooling2D(pool_size=(2, 2)))\n",
        "model.add(Conv2D(64, kernel_size=(3, 3), activation='relu'))\n",
        "model.add(MaxPooling2D(pool_size=(2, 2)))\n",
        "model.add(Flatten())\n",
        "model.add(Dense(128, activation='relu'))\n",
        "model.add(Dense(10, activation='softmax'))"
      ],
      "metadata": {
        "colab": {
          "base_uri": "https://localhost:8080/"
        },
        "id": "3jGTrpUKZy-4",
        "outputId": "24756c2c-d6db-4e16-d2eb-0fa359d5f3e6"
      },
      "execution_count": null,
      "outputs": [
        {
          "output_type": "stream",
          "name": "stderr",
          "text": [
            "/usr/local/lib/python3.10/dist-packages/keras/src/layers/convolutional/base_conv.py:107: UserWarning: Do not pass an `input_shape`/`input_dim` argument to a layer. When using Sequential models, prefer using an `Input(shape)` object as the first layer in the model instead.\n",
            "  super().__init__(activity_regularizer=activity_regularizer, **kwargs)\n"
          ]
        }
      ]
    },
    {
      "cell_type": "markdown",
      "source": [
        "**Compile the model**"
      ],
      "metadata": {
        "id": "yxV7c294ZpBZ"
      }
    },
    {
      "cell_type": "code",
      "source": [
        "model.compile(optimizer='adam', loss='categorical_crossentropy', metrics=['accuracy'])"
      ],
      "metadata": {
        "id": "oZLKA8B2ZzqI"
      },
      "execution_count": null,
      "outputs": []
    },
    {
      "cell_type": "markdown",
      "source": [
        "**Train the model**"
      ],
      "metadata": {
        "id": "d1sMxIvlZq0c"
      }
    },
    {
      "cell_type": "code",
      "source": [
        "model.fit(X_train, y_train, validation_data=(X_val, y_val), epochs=10)"
      ],
      "metadata": {
        "colab": {
          "base_uri": "https://localhost:8080/"
        },
        "id": "GIHlZI2bZ0OU",
        "outputId": "eda8b47a-e164-4c94-e1fe-1ce27cd7f661"
      },
      "execution_count": null,
      "outputs": [
        {
          "output_type": "stream",
          "name": "stdout",
          "text": [
            "Epoch 1/10\n",
            "\u001b[1m500/500\u001b[0m \u001b[32m━━━━━━━━━━━━━━━━━━━━\u001b[0m\u001b[37m\u001b[0m \u001b[1m20s\u001b[0m 36ms/step - accuracy: 0.8362 - loss: 0.5547 - val_accuracy: 0.9678 - val_loss: 0.0988\n",
            "Epoch 2/10\n",
            "\u001b[1m500/500\u001b[0m \u001b[32m━━━━━━━━━━━━━━━━━━━━\u001b[0m\u001b[37m\u001b[0m \u001b[1m15s\u001b[0m 30ms/step - accuracy: 0.9741 - loss: 0.0824 - val_accuracy: 0.9737 - val_loss: 0.0814\n",
            "Epoch 3/10\n",
            "\u001b[1m500/500\u001b[0m \u001b[32m━━━━━━━━━━━━━━━━━━━━\u001b[0m\u001b[37m\u001b[0m \u001b[1m15s\u001b[0m 30ms/step - accuracy: 0.9854 - loss: 0.0507 - val_accuracy: 0.9825 - val_loss: 0.0530\n",
            "Epoch 4/10\n",
            "\u001b[1m500/500\u001b[0m \u001b[32m━━━━━━━━━━━━━━━━━━━━\u001b[0m\u001b[37m\u001b[0m \u001b[1m15s\u001b[0m 30ms/step - accuracy: 0.9902 - loss: 0.0308 - val_accuracy: 0.9835 - val_loss: 0.0484\n",
            "Epoch 5/10\n",
            "\u001b[1m500/500\u001b[0m \u001b[32m━━━━━━━━━━━━━━━━━━━━\u001b[0m\u001b[37m\u001b[0m \u001b[1m15s\u001b[0m 29ms/step - accuracy: 0.9924 - loss: 0.0244 - val_accuracy: 0.9787 - val_loss: 0.0664\n",
            "Epoch 6/10\n",
            "\u001b[1m500/500\u001b[0m \u001b[32m━━━━━━━━━━━━━━━━━━━━\u001b[0m\u001b[37m\u001b[0m \u001b[1m21s\u001b[0m 30ms/step - accuracy: 0.9943 - loss: 0.0178 - val_accuracy: 0.9818 - val_loss: 0.0602\n",
            "Epoch 7/10\n",
            "\u001b[1m500/500\u001b[0m \u001b[32m━━━━━━━━━━━━━━━━━━━━\u001b[0m\u001b[37m\u001b[0m \u001b[1m20s\u001b[0m 29ms/step - accuracy: 0.9949 - loss: 0.0155 - val_accuracy: 0.9808 - val_loss: 0.0713\n",
            "Epoch 8/10\n",
            "\u001b[1m500/500\u001b[0m \u001b[32m━━━━━━━━━━━━━━━━━━━━\u001b[0m\u001b[37m\u001b[0m \u001b[1m21s\u001b[0m 30ms/step - accuracy: 0.9961 - loss: 0.0113 - val_accuracy: 0.9800 - val_loss: 0.0663\n",
            "Epoch 9/10\n",
            "\u001b[1m500/500\u001b[0m \u001b[32m━━━━━━━━━━━━━━━━━━━━\u001b[0m\u001b[37m\u001b[0m \u001b[1m20s\u001b[0m 29ms/step - accuracy: 0.9966 - loss: 0.0093 - val_accuracy: 0.9820 - val_loss: 0.0719\n",
            "Epoch 10/10\n",
            "\u001b[1m500/500\u001b[0m \u001b[32m━━━━━━━━━━━━━━━━━━━━\u001b[0m\u001b[37m\u001b[0m \u001b[1m21s\u001b[0m 30ms/step - accuracy: 0.9958 - loss: 0.0115 - val_accuracy: 0.9787 - val_loss: 0.0626\n"
          ]
        },
        {
          "output_type": "execute_result",
          "data": {
            "text/plain": [
              "<keras.src.callbacks.history.History at 0x7fc20fc18df0>"
            ]
          },
          "metadata": {},
          "execution_count": 13
        }
      ]
    },
    {
      "cell_type": "markdown",
      "source": [
        "**Evaluate the model**"
      ],
      "metadata": {
        "id": "2ymrtsqEZsZe"
      }
    },
    {
      "cell_type": "code",
      "source": [
        "loss, accuracy = model.evaluate(X_test, y_test)\n",
        "print(f'Test accuracy: {accuracy}')"
      ],
      "metadata": {
        "colab": {
          "base_uri": "https://localhost:8080/"
        },
        "id": "T5FcoPMKZ0h2",
        "outputId": "9287a309-977b-4f45-af11-08b7c2cf49c2"
      },
      "execution_count": null,
      "outputs": [
        {
          "output_type": "stream",
          "name": "stdout",
          "text": [
            "\u001b[1m313/313\u001b[0m \u001b[32m━━━━━━━━━━━━━━━━━━━━\u001b[0m\u001b[37m\u001b[0m \u001b[1m3s\u001b[0m 9ms/step - accuracy: 0.9824 - loss: 0.0729\n",
            "Test accuracy: 0.9851984977722168\n"
          ]
        }
      ]
    }
  ]
}